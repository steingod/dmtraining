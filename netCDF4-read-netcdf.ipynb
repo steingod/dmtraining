{
 "cells": [
  {
   "cell_type": "markdown",
   "id": "reduced-tongue",
   "metadata": {},
   "source": [
    "# Read NetCDF-CF using NetCDF4 module"
   ]
  },
  {
   "cell_type": "markdown",
   "id": "severe-hammer",
   "metadata": {},
   "source": [
    "## Purpose"
   ]
  },
  {
   "cell_type": "markdown",
   "id": "static-draft",
   "metadata": {},
   "source": [
    "This notebook introduces the netCDF4 module in Python and how to use it. Details about rthis module is available at https://unidata.github.io/netcdf4-python/. "
   ]
  },
  {
   "cell_type": "markdown",
   "id": "spiritual-calendar",
   "metadata": {},
   "source": [
    "## Read and check contents"
   ]
  },
  {
   "cell_type": "markdown",
   "id": "catholic-nirvana",
   "metadata": {},
   "source": [
    "Import the necessary modules to read the data."
   ]
  },
  {
   "cell_type": "code",
   "execution_count": 1,
   "id": "institutional-collect",
   "metadata": {},
   "outputs": [],
   "source": [
    "import netCDF4 as nc\n",
    "import numpy as np"
   ]
  },
  {
   "cell_type": "markdown",
   "id": "nominated-locator",
   "metadata": {},
   "source": [
    "Read data from a NetCDF file served over OPeNDAP. The file we are looking at here contains weather station data from Svalbard Lufthavn, Longyearbyen."
   ]
  },
  {
   "cell_type": "code",
   "execution_count": 2,
   "id": "computational-cosmetic",
   "metadata": {},
   "outputs": [],
   "source": [
    "myfile = nc.Dataset(\"https://thredds.met.no/thredds/dodsC/met.no/observations/stations/SN99840.nc\")"
   ]
  },
  {
   "cell_type": "markdown",
   "id": "demonstrated-sitting",
   "metadata": {},
   "source": [
    "Check the data model that this file is written in."
   ]
  },
  {
   "cell_type": "code",
   "execution_count": 3,
   "id": "japanese-heath",
   "metadata": {},
   "outputs": [
    {
     "data": {
      "text/plain": [
       "'NETCDF3_CLASSIC'"
      ]
     },
     "execution_count": 3,
     "metadata": {},
     "output_type": "execute_result"
    }
   ],
   "source": [
    "myfile.data_model"
   ]
  },
  {
   "cell_type": "markdown",
   "id": "lovely-teens",
   "metadata": {},
   "source": [
    "Check the structure of the data file. This lists global attributes and variables."
   ]
  },
  {
   "cell_type": "code",
   "execution_count": 4,
   "id": "executed-premises",
   "metadata": {},
   "outputs": [
    {
     "data": {
      "text/plain": [
       "<class 'netCDF4._netCDF4.Dataset'>\n",
       "root group (NETCDF3_CLASSIC data model, file format DAP2):\n",
       "    station_name: SVALBARD LUFTHAVN\n",
       "    wigos_identifier: 0-20000-0-01008\n",
       "    wmo_identifier: 01008\n",
       "    date_created: 2019-09-03T09:57:42.519877+00:00\n",
       "    Conventions: ACDD-1.3,CF-1.6\n",
       "    title: Observations from station SVALBARD LUFTHAVN SN99840\n",
       "    institution: Norwegian Meteorological Institute\n",
       "    source: Meterological surface observation via frost.met.no\n",
       "    history: 2019-09-03T09:57:42.519877+00:00: frost write netcdf\n",
       "    references: \n",
       "    acknowledgment: frost.met.no\n",
       "    comment: Observations based on data from frost.met.no\n",
       "    creator_email: observasjon@met.no\n",
       "    creator_name: Norwegian Meteorological Institute\n",
       "    creator_url: https://met.no\n",
       "    geospatial_bounds: POINT(15.501500 78.245300)\n",
       "    geospatial_bounds_crs: latlon\n",
       "    geospatial_lat_max: 78.245300\n",
       "    geospatial_lat_min: 78.245300\n",
       "    geospatial_lon_max: 15.501500\n",
       "    geospatial_lon_min: 15.501500\n",
       "    id: metno_obs_SN99840\n",
       "    keywords: observations\n",
       "    metadata_link: https://oaipmh.met.no/oai/?verb=GetRecord&metadataPrefix=iso&identifier=SN99840\n",
       "    summary: Surface meteorological observations from the observation network operated by the Norwegian Meteorological Institute. Data are received and quality controlled using the local KVALOBS system. Observation stations are normally operated according to WMO requirements, although specifications are not followed on some remote stations for practical matters. Stations may have more parameters than reported in this dataset.\n",
       "    time_coverage_start: 1975-08-01T00:00:00\n",
       "    time_coverage_end: 2019-09-03T09:00:00\n",
       "    featureType: timeSeries\n",
       "    DODS.strlen: 7\n",
       "    DODS.dimName: station_id\n",
       "    DODS_EXTRA.Unlimited_Dimension: time\n",
       "    dimensions(sizes): time(397152), maxStrlen64(64)\n",
       "    variables(dimensions): float64 time(time), float64 latitude(), float64 longitude(), |S1 station_id(maxStrlen64), float32 relative_humidity(time), float32 surface_air_pressure_2m(time), float32 air_temperature_2m(time), float32 wind_from_direction_10m(time), float32 wind_speed_10m(time), float32 air_pressure_at_sea_level(time), float32 air_pressure_at_sea_level_qnh(time)\n",
       "    groups: "
      ]
     },
     "execution_count": 4,
     "metadata": {},
     "output_type": "execute_result"
    }
   ],
   "source": [
    "myfile"
   ]
  },
  {
   "cell_type": "markdown",
   "id": "gentle-wrestling",
   "metadata": {},
   "source": [
    "Get a list of the global attributes in the file."
   ]
  },
  {
   "cell_type": "code",
   "execution_count": 5,
   "id": "acting-jimmy",
   "metadata": {},
   "outputs": [
    {
     "data": {
      "text/plain": [
       "['station_name',\n",
       " 'wigos_identifier',\n",
       " 'wmo_identifier',\n",
       " 'date_created',\n",
       " 'Conventions',\n",
       " 'title',\n",
       " 'institution',\n",
       " 'source',\n",
       " 'history',\n",
       " 'references',\n",
       " 'acknowledgment',\n",
       " 'comment',\n",
       " 'creator_email',\n",
       " 'creator_name',\n",
       " 'creator_url',\n",
       " 'geospatial_bounds',\n",
       " 'geospatial_bounds_crs',\n",
       " 'geospatial_lat_max',\n",
       " 'geospatial_lat_min',\n",
       " 'geospatial_lon_max',\n",
       " 'geospatial_lon_min',\n",
       " 'id',\n",
       " 'keywords',\n",
       " 'metadata_link',\n",
       " 'summary',\n",
       " 'time_coverage_start',\n",
       " 'time_coverage_end',\n",
       " 'featureType',\n",
       " 'DODS.strlen',\n",
       " 'DODS.dimName',\n",
       " 'DODS_EXTRA.Unlimited_Dimension']"
      ]
     },
     "execution_count": 5,
     "metadata": {},
     "output_type": "execute_result"
    }
   ],
   "source": [
    "myfile.ncattrs()"
   ]
  },
  {
   "cell_type": "markdown",
   "id": "abstract-marketing",
   "metadata": {},
   "source": [
    "Access a specific global attribute."
   ]
  },
  {
   "cell_type": "code",
   "execution_count": 6,
   "id": "ceramic-combine",
   "metadata": {},
   "outputs": [
    {
     "data": {
      "text/plain": [
       "'Observations from station SVALBARD LUFTHAVN SN99840'"
      ]
     },
     "execution_count": 6,
     "metadata": {},
     "output_type": "execute_result"
    }
   ],
   "source": [
    "myfile.getncattr('title')"
   ]
  },
  {
   "cell_type": "markdown",
   "id": "innocent-rotation",
   "metadata": {},
   "source": [
    "List all variables that are available in the dataset."
   ]
  },
  {
   "cell_type": "code",
   "execution_count": 7,
   "id": "physical-extent",
   "metadata": {},
   "outputs": [
    {
     "data": {
      "text/plain": [
       "dict_keys(['time', 'latitude', 'longitude', 'station_id', 'relative_humidity', 'surface_air_pressure_2m', 'air_temperature_2m', 'wind_from_direction_10m', 'wind_speed_10m', 'air_pressure_at_sea_level', 'air_pressure_at_sea_level_qnh'])"
      ]
     },
     "execution_count": 7,
     "metadata": {},
     "output_type": "execute_result"
    }
   ],
   "source": [
    "myfile.variables.keys()"
   ]
  },
  {
   "cell_type": "markdown",
   "id": "adaptive-speaker",
   "metadata": {},
   "source": [
    "Check a specific variable in more detail."
   ]
  },
  {
   "cell_type": "code",
   "execution_count": 8,
   "id": "forty-supervisor",
   "metadata": {},
   "outputs": [
    {
     "data": {
      "text/plain": [
       "<class 'netCDF4._netCDF4.Variable'>\n",
       "float32 air_temperature_2m(time)\n",
       "    long_name: Air temperature\n",
       "    coverage_content_type: coordinate\n",
       "    standard_name: air_temperature\n",
       "    units: K\n",
       "    _ChunkSizes: 1022\n",
       "unlimited dimensions: time\n",
       "current shape = (397152,)\n",
       "filling off"
      ]
     },
     "execution_count": 8,
     "metadata": {},
     "output_type": "execute_result"
    }
   ],
   "source": [
    "myfile.variables['air_temperature_2m']"
   ]
  },
  {
   "cell_type": "code",
   "execution_count": 9,
   "id": "portable-carry",
   "metadata": {},
   "outputs": [
    {
     "data": {
      "text/plain": [
       "'K'"
      ]
     },
     "execution_count": 9,
     "metadata": {},
     "output_type": "execute_result"
    }
   ],
   "source": [
    "myfile.variables['air_temperature_2m'].units"
   ]
  },
  {
   "cell_type": "markdown",
   "id": "abroad-spending",
   "metadata": {},
   "source": [
    "Here _FillValue is not properly set, thus missing values are not automatically identified. Care has to be taken."
   ]
  },
  {
   "cell_type": "markdown",
   "id": "painful-greene",
   "metadata": {},
   "source": [
    "## Plot results"
   ]
  },
  {
   "cell_type": "markdown",
   "id": "trying-walter",
   "metadata": {},
   "source": [
    "We are using matplotlib for this purpose. Check details at https://matplotlib.org/, https://matplotlib.org/stable/tutorials/introductory/pyplot.html, https://realpython.com/python-matplotlib-guide/. "
   ]
  },
  {
   "cell_type": "code",
   "execution_count": 10,
   "id": "separated-patrol",
   "metadata": {},
   "outputs": [],
   "source": [
    "import matplotlib.pyplot as plt"
   ]
  },
  {
   "cell_type": "markdown",
   "id": "welcome-aggregate",
   "metadata": {},
   "source": [
    "Convert the time variable to datetime object that is more human readable in plots."
   ]
  },
  {
   "cell_type": "code",
   "execution_count": 11,
   "id": "colored-lightweight",
   "metadata": {},
   "outputs": [],
   "source": [
    "import datetime as dt"
   ]
  },
  {
   "cell_type": "markdown",
   "id": "computational-runner",
   "metadata": {},
   "source": [
    "To ensure proper conversion of time zone information remember to include."
   ]
  },
  {
   "cell_type": "code",
   "execution_count": 12,
   "id": "weird-penny",
   "metadata": {},
   "outputs": [],
   "source": [
    "import pytz"
   ]
  },
  {
   "cell_type": "code",
   "execution_count": 13,
   "id": "played-topic",
   "metadata": {},
   "outputs": [
    {
     "data": {
      "text/plain": [
       "netCDF4._netCDF4.Variable"
      ]
     },
     "execution_count": 13,
     "metadata": {},
     "output_type": "execute_result"
    }
   ],
   "source": [
    "type(myfile.variables['time'])"
   ]
  },
  {
   "cell_type": "code",
   "execution_count": 14,
   "id": "electric-petersburg",
   "metadata": {},
   "outputs": [],
   "source": [
    "mytime = [dt.datetime.fromtimestamp(mt,tz=pytz.timezone(\"UTC\")) for mt in np.array(myfile.variables['time'])]"
   ]
  },
  {
   "cell_type": "code",
   "execution_count": 15,
   "id": "danish-bradley",
   "metadata": {},
   "outputs": [
    {
     "data": {
      "text/plain": [
       "[<matplotlib.lines.Line2D at 0x7f90e51d1910>]"
      ]
     },
     "execution_count": 15,
     "metadata": {},
     "output_type": "execute_result"
    },
    {
     "data": {
      "image/png": "[encoded data removed]",
      "text/plain": [
       "<Figure size 432x288 with 1 Axes>"
      ]
     },
     "metadata": {
      "needs_background": "light"
     },
     "output_type": "display_data"
    }
   ],
   "source": [
    "plt.plot(mytime,myfile.variables['air_temperature_2m'])"
   ]
  },
  {
   "cell_type": "markdown",
   "id": "effective-reduction",
   "metadata": {},
   "source": [
    "## Dump your data to CSV"
   ]
  },
  {
   "cell_type": "code",
   "execution_count": 16,
   "id": "south-benjamin",
   "metadata": {},
   "outputs": [],
   "source": [
    "import pandas as pd"
   ]
  },
  {
   "cell_type": "code",
   "execution_count": 17,
   "id": "adequate-terrace",
   "metadata": {},
   "outputs": [],
   "source": [
    "mydf = pd.Series(myfile.variables['air_temperature_2m'],mytime)"
   ]
  },
  {
   "cell_type": "code",
   "execution_count": 18,
   "id": "unlike-anniversary",
   "metadata": {},
   "outputs": [
    {
     "data": {
      "text/plain": [
       "1975-08-01 00:00:00+00:00    [278.05, 276.65, 278.25, 278.25, 276.95, 277.3...\n",
       "1975-08-01 06:00:00+00:00    [278.05, 276.65, 278.25, 278.25, 276.95, 277.3...\n",
       "1975-08-01 12:00:00+00:00    [278.05, 276.65, 278.25, 278.25, 276.95, 277.3...\n",
       "1975-08-01 18:00:00+00:00    [278.05, 276.65, 278.25, 278.25, 276.95, 277.3...\n",
       "1975-08-02 00:00:00+00:00    [278.05, 276.65, 278.25, 278.25, 276.95, 277.3...\n",
       "dtype: object"
      ]
     },
     "execution_count": 18,
     "metadata": {},
     "output_type": "execute_result"
    }
   ],
   "source": [
    "mydf.head()"
   ]
  },
  {
   "cell_type": "code",
   "execution_count": 19,
   "id": "defensive-belize",
   "metadata": {},
   "outputs": [],
   "source": [
    "mydf.to_csv(\"myfile.csv\", header=None)"
   ]
  }
 ],
 "metadata": {
  "kernelspec": {
   "display_name": "Python 3",
   "language": "python",
   "name": "python3"
  },
  "language_info": {
   "codemirror_mode": {
    "name": "ipython",
    "version": 3
   },
   "file_extension": ".py",
   "mimetype": "text/x-python",
   "name": "python",
   "nbconvert_exporter": "python",
   "pygments_lexer": "ipython3",
   "version": "3.8.10"
  }
 },
 "nbformat": 4,
 "nbformat_minor": 5
}
